{
  "nbformat": 4,
  "nbformat_minor": 0,
  "metadata": {
    "colab": {
      "provenance": [],
      "authorship_tag": "ABX9TyMZpDEGbIWQqLVw9gtrwKe3",
      "include_colab_link": true
    },
    "kernelspec": {
      "name": "python3",
      "display_name": "Python 3"
    },
    "language_info": {
      "name": "python"
    }
  },
  "cells": [
    {
      "cell_type": "markdown",
      "metadata": {
        "id": "view-in-github",
        "colab_type": "text"
      },
      "source": [
        "<a href=\"https://colab.research.google.com/github/jlainof-pixel/practica-matrices-python/blob/main/Untitled0.ipynb\" target=\"_parent\"><img src=\"https://colab.research.google.com/assets/colab-badge.svg\" alt=\"Open In Colab\"/></a>"
      ]
    },
    {
      "cell_type": "code",
      "execution_count": 1,
      "metadata": {
        "colab": {
          "base_uri": "https://localhost:8080/"
        },
        "id": "uMUeQhded53P",
        "outputId": "648f7d0c-aa33-47e1-b2ce-2aa19d5bc790"
      },
      "outputs": [
        {
          "output_type": "stream",
          "name": "stdout",
          "text": [
            "Contenido del archivo my_notes.txt:\n",
            "Nota 1: Hoy aprendí a trabajar con archivos en Python.\n",
            "Nota 2: La función write() me permite escribir texto en un archivo.\n",
            "Nota 3: También puedo leer el archivo línea por línea con readline().\n"
          ]
        }
      ],
      "source": [
        "# Escritura en archivo de texto\n",
        "file = open(\"my_notes.txt\", \"w\")\n",
        "file.write(\"Nota 1: Hoy aprendí a trabajar con archivos en Python.\\n\")\n",
        "file.write(\"Nota 2: La función write() me permite escribir texto en un archivo.\\n\")\n",
        "file.write(\"Nota 3: También puedo leer el archivo línea por línea con readline().\\n\")\n",
        "file.close()\n",
        "\n",
        "# Lectura de archivo de texto\n",
        "file = open(\"my_notes.txt\", \"r\")\n",
        "print(\"Contenido del archivo my_notes.txt:\")\n",
        "linea = file.readline()\n",
        "while linea:\n",
        "    print(linea.strip())\n",
        "    linea = file.readline()\n",
        "file.close()\n",
        "\n"
      ]
    }
  ]
}